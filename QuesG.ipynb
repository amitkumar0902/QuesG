{
  "nbformat": 4,
  "nbformat_minor": 0,
  "metadata": {
    "colab": {
      "name": "QuesG.ipynb",
      "provenance": [],
      "collapsed_sections": []
    },
    "kernelspec": {
      "name": "python3",
      "display_name": "Python 3"
    },
    "accelerator": "TPU"
  },
  "cells": [
    {
      "cell_type": "markdown",
      "metadata": {
        "id": "b-IbLUtZqriv"
      },
      "source": [
        "# Import Packages & Download Data"
      ]
    },
    {
      "cell_type": "code",
      "metadata": {
        "id": "TJdFyKxJ5v7Z",
        "colab": {
          "base_uri": "https://localhost:8080/"
        },
        "outputId": "88a98fb2-fc95-4b71-f68b-d3e0986acee1"
      },
      "source": [
        "!pip install rake-nltk\n",
        "!pip install -q wikipedia-api\n",
        "#demo.clab.cs.cmu.edu/NLP/S19/files/noun_counting_data.zip"
      ],
      "execution_count": null,
      "outputs": [
        {
          "output_type": "stream",
          "name": "stdout",
          "text": [
            "Collecting rake-nltk\n",
            "  Downloading rake_nltk-1.0.6-py3-none-any.whl (9.1 kB)\n",
            "Collecting nltk<4.0.0,>=3.6.2\n",
            "  Downloading nltk-3.6.5-py3-none-any.whl (1.5 MB)\n",
            "\u001b[K     |████████████████████████████████| 1.5 MB 5.5 MB/s \n",
            "\u001b[?25hRequirement already satisfied: tqdm in /usr/local/lib/python3.7/dist-packages (from nltk<4.0.0,>=3.6.2->rake-nltk) (4.62.3)\n",
            "Requirement already satisfied: joblib in /usr/local/lib/python3.7/dist-packages (from nltk<4.0.0,>=3.6.2->rake-nltk) (1.0.1)\n",
            "Collecting regex>=2021.8.3\n",
            "  Downloading regex-2021.10.23-cp37-cp37m-manylinux_2_17_x86_64.manylinux2014_x86_64.whl (748 kB)\n",
            "\u001b[K     |████████████████████████████████| 748 kB 51.7 MB/s \n",
            "\u001b[?25hRequirement already satisfied: click in /usr/local/lib/python3.7/dist-packages (from nltk<4.0.0,>=3.6.2->rake-nltk) (7.1.2)\n",
            "Installing collected packages: regex, nltk, rake-nltk\n",
            "  Attempting uninstall: regex\n",
            "    Found existing installation: regex 2019.12.20\n",
            "    Uninstalling regex-2019.12.20:\n",
            "      Successfully uninstalled regex-2019.12.20\n",
            "  Attempting uninstall: nltk\n",
            "    Found existing installation: nltk 3.2.5\n",
            "    Uninstalling nltk-3.2.5:\n",
            "      Successfully uninstalled nltk-3.2.5\n",
            "Successfully installed nltk-3.6.5 rake-nltk-1.0.6 regex-2021.10.23\n",
            "  Building wheel for wikipedia-api (setup.py) ... \u001b[?25l\u001b[?25hdone\n"
          ]
        }
      ]
    },
    {
      "cell_type": "code",
      "metadata": {
        "colab": {
          "base_uri": "https://localhost:8080/"
        },
        "id": "I1GKOTvwrBfh",
        "outputId": "1ae728a6-bc52-4b84-a984-3582b954e655"
      },
      "source": [
        "from textblob import TextBlob\n",
        "import nltk\n",
        "from textblob import Word\n",
        "import warnings\n",
        "nltk.download('stopwords')\n",
        "nltk.download('punkt')\n",
        "nltk.download('averaged_perceptron_tagger')\n",
        "nltk.download('maxent_ne_chunker')\n",
        "nltk.download('words')\n",
        "import gensim.downloader as api\n",
        "warnings.filterwarnings('ignore')\n",
        "import re\n",
        "from nltk import sent_tokenize\n",
        "from nltk.corpus import stopwords\n",
        "from rake_nltk import Rake\n",
        "import numpy as np\n",
        "from gensim.models import Word2Vec\n",
        "from scipy import spatial\n",
        "import networkx as nx\n",
        "from random import shuffle"
      ],
      "execution_count": null,
      "outputs": [
        {
          "output_type": "stream",
          "name": "stderr",
          "text": [
            "[nltk_data] Downloading package stopwords to /root/nltk_data...\n",
            "[nltk_data]   Unzipping corpora/stopwords.zip.\n",
            "[nltk_data] Downloading package punkt to /root/nltk_data...\n",
            "[nltk_data]   Unzipping tokenizers/punkt.zip.\n",
            "[nltk_data] Downloading package averaged_perceptron_tagger to\n",
            "[nltk_data]     /root/nltk_data...\n",
            "[nltk_data]   Unzipping taggers/averaged_perceptron_tagger.zip.\n",
            "[nltk_data] Downloading package maxent_ne_chunker to\n",
            "[nltk_data]     /root/nltk_data...\n",
            "[nltk_data]   Unzipping chunkers/maxent_ne_chunker.zip.\n",
            "[nltk_data] Downloading package words to /root/nltk_data...\n",
            "[nltk_data]   Unzipping corpora/words.zip.\n"
          ]
        }
      ]
    },
    {
      "cell_type": "markdown",
      "metadata": {
        "id": "DXV0m0aVrw0g"
      },
      "source": [
        "### Download Data"
      ]
    },
    {
      "cell_type": "code",
      "metadata": {
        "id": "bRI1FnuDB5v0",
        "colab": {
          "base_uri": "https://localhost:8080/"
        },
        "outputId": "988598ba-b2a6-4813-cc43-5a207bc87098"
      },
      "source": [
        "!wget demo.clab.cs.cmu.edu/NLP/S19/files/noun_counting_data.zip\n",
        "!unzip noun_counting_data.zip\n"
      ],
      "execution_count": null,
      "outputs": [
        {
          "output_type": "stream",
          "name": "stdout",
          "text": [
            "--2021-10-31 15:23:21--  http://demo.clab.cs.cmu.edu/NLP/S19/files/noun_counting_data.zip\n",
            "Resolving demo.clab.cs.cmu.edu (demo.clab.cs.cmu.edu)... 128.2.220.95\n",
            "Connecting to demo.clab.cs.cmu.edu (demo.clab.cs.cmu.edu)|128.2.220.95|:80... connected.\n",
            "HTTP request sent, awaiting response... 200 OK\n",
            "Length: 55271 (54K) [application/zip]\n",
            "Saving to: ‘noun_counting_data.zip’\n",
            "\n",
            "noun_counting_data. 100%[===================>]  53.98K  --.-KB/s    in 0.07s   \n",
            "\n",
            "2021-10-31 15:23:21 (780 KB/s) - ‘noun_counting_data.zip’ saved [55271/55271]\n",
            "\n",
            "Archive:  noun_counting_data.zip\n",
            "   creating: noun_counting_data/\n",
            "  inflating: noun_counting_data/a6.txt  \n",
            "  inflating: noun_counting_data/a7.txt  \n",
            "  inflating: noun_counting_data/a8.txt  \n",
            "  inflating: noun_counting_data/a2.txt  \n",
            "  inflating: noun_counting_data/a10.txt  \n",
            "  inflating: noun_counting_data/a4.txt  \n",
            "  inflating: noun_counting_data/a9.txt  \n",
            "  inflating: noun_counting_data/a5.txt  \n",
            "  inflating: noun_counting_data/a1.txt  \n",
            "  inflating: noun_counting_data/a3.txt  \n"
          ]
        }
      ]
    },
    {
      "cell_type": "code",
      "metadata": {
        "id": "3zfb1uK98YLc"
      },
      "source": [
        "import wikipediaapi\n",
        "import pandas as pd\n",
        "import concurrent.futures\n",
        "from tqdm import tqdm\n",
        "\n",
        "\n",
        "def wiki_scrape(start_page_name, verbose=True):\n",
        "    \"\"\"Method to scrape Wikipedia pages associated with/linked to a starting page\n",
        "    \n",
        "    Parameters\n",
        "    ----------\n",
        "    start_page_name : str\n",
        "        Name of page to start scraping from\n",
        "    verbose : bool, optional\n",
        "        Flag for displaying progress bar and verbose output\n",
        "    Returns\n",
        "    -------\n",
        "    sources : pd.DataFrame\n",
        "        DataFrame containing all scraped Wikipedia articles linked to start_page_name,\n",
        "        with entries ('page', 'text', 'link', 'categories')\n",
        "        \n",
        "    References\n",
        "    ----------\n",
        "    Modified from https://towardsdatascience.com/auto-generated-knowledge-graphs-92ca99a81121\n",
        "    \"\"\"\n",
        "    def follow_link(link):\n",
        "        \"\"\"Helper function to follow links using Wikipedia API\n",
        "        \"\"\"\n",
        "        try:\n",
        "            page = wiki_api.page(link)\n",
        "            if page.exists():\n",
        "                d = {'page': link, 'text': page.text, 'link': page.fullurl,\n",
        "                     'categories': list(page.categories.keys())}\n",
        "                return d\n",
        "            else:\n",
        "                return None\n",
        "        except:\n",
        "            return None\n",
        "    \n",
        "    # Instantiate Wikipedia API\n",
        "    wiki_api = wikipediaapi.Wikipedia(language='en', extract_format=wikipediaapi.ExtractFormat.WIKI)\n",
        "    \n",
        "    # Scrape starting page\n",
        "    page_name = wiki_api.page(start_page_name)\n",
        "    if not page_name.exists():\n",
        "        print('page does not exist')\n",
        "        return\n",
        "    \n",
        "    # Initialize dict (to be converted to df)\n",
        "    sources = [{\n",
        "        'page': start_page_name, \n",
        "        'text': page_name.text, \n",
        "        'link': page_name.fullurl,\n",
        "        'categories': list(page_name.categories.keys())\n",
        "    }]\n",
        "    \n",
        "    page_links = set(page_name.links.keys())\n",
        "    # Multiprocessing to parallely scrape from multiple pages\n",
        "    progress = tqdm(desc='Links Scraped', unit='', total=len(page_links)) if verbose else None\n",
        "    with concurrent.futures.ThreadPoolExecutor(max_workers=5) as executor:\n",
        "        # Follow links from list of links\n",
        "        future_link = {executor.submit(follow_link, link): link for link in page_links}\n",
        "        for future in concurrent.futures.as_completed(future_link):\n",
        "            data = future.result()\n",
        "            progress.update(1) if verbose else None\n",
        "            if data:\n",
        "                # Update sources dict\n",
        "                sources.append(data)\n",
        "    progress.close() if verbose else None\n",
        "    \n",
        "    # Convert dict to df\n",
        "    sources = pd.DataFrame(sources)\n",
        "    \n",
        "    # Filter out generic Wikipedia pages\n",
        "    blacklist = ('Template', 'Help:', 'Category:', 'Portal:', 'Wikipedia:', 'Talk:')\n",
        "    sources = sources[(len(sources['text']) > 20)\n",
        "                      & ~(sources['page'].str.startswith(blacklist))]\n",
        "    sources['categories'] = sources.categories.apply(lambda x: [y[9:] for y in x])\n",
        "    \n",
        "    return sources\n",
        "\n",
        "\n",
        "def build_category_whitelist(wiki_data, page_whitelist, cat_blacklist):\n",
        "    \"\"\"Helper function to build whitelist of page categories\n",
        "    \n",
        "    This method finds a set of page categories which we can use to \n",
        "    reduce the amount of pages we use for building knowledge graphs. \n",
        "    Typically, we want to build KGs about particular domains and \n",
        "    specific pages.\n",
        "    \n",
        "    Parameters\n",
        "    ----------\n",
        "    wiki_data : pd.DataFrame\n",
        "        \n",
        "    page_whitelist : list\n",
        "        List of pages from whose categories we select a domain-specific subset\n",
        "    cat_blacklist : list\n",
        "        List of categories which we don't want to include in the whitelist\n",
        "        \n",
        "    Returns\n",
        "    -------\n",
        "    cat_whitelist : set/list\n",
        "        List of categories which we want to build KGs about\n",
        "    \"\"\"\n",
        "    cat_whitelist = []\n",
        "    for page_name in page_whitelist:\n",
        "        # Iterate over categies list for each page in the page whitelist\n",
        "        categories = list(wiki_data[wiki_data.page==page_name].categories)[0]\n",
        "        for cat in categories:\n",
        "            relevant_cat = True\n",
        "            for unwanted in cat_blacklist:\n",
        "                # If given category is part of blacklisted categories, \n",
        "                # do not add it to whitelist\n",
        "                if unwanted in cat:\n",
        "                    relevant_cat = False\n",
        "                    break\n",
        "            \n",
        "            # All non-blacklisted categories from the page whitelist \n",
        "            # are added to categories whitelist\n",
        "            if relevant_cat:\n",
        "                cat_whitelist.append(cat)\n",
        "                \n",
        "    return set(cat_whitelist)"
      ],
      "execution_count": null,
      "outputs": []
    },
    {
      "cell_type": "markdown",
      "metadata": {
        "id": "sSmImUAbt6Ce"
      },
      "source": [
        "### Visualize/ Analyse data"
      ]
    },
    {
      "cell_type": "code",
      "metadata": {
        "id": "7a2m5pG_uaLM",
        "colab": {
          "base_uri": "https://localhost:8080/",
          "height": 174
        },
        "outputId": "177b2c72-36e5-4572-883e-c813c77ebe10"
      },
      "source": [
        "\n",
        "file_path =\"/content/noun_counting_data/a1.txt\"\n",
        "data = open(file_path,'r+')\n",
        "data = data.read()\n",
        "data"
      ],
      "execution_count": null,
      "outputs": [
        {
          "output_type": "execute_result",
          "data": {
            "application/vnd.google.colaboratory.intrinsic+json": {
              "type": "string"
            },
            "text/plain": [
              "'Gyarados\\n\\n\\nGyarados (ギャラドス, Gyaradosu,  or ) is a Pokémon species in Nintendo and Game Freak\\'s Pokémon franchise. Created by Ken Sugimori, Gyarados first appeared in the video games Pokémon Red and Pokemon Green and subsequent sequels, later appearing in various merchandise, spinoff titles and animated and printed adaptations of the franchise. Gyarados is voiced by Unshō Ishizuka in both Japanese and English media. Known as the Atrocious Pokémon, Gyarados is the evolved form of Magikarp and it is well known in the Pokémon world for its fierce temper as well as its reputation for causing nothing but destruction so much so that once it has worked itself into a frenzy, it will not calm down until everything around it has been destroyed.\\nGyarados appears multiple times in the anime under various trainers such as Misty, Lance, Crasher Wake, and Nurse Joy. Two different Gyarados appear in the Pokémon Adventures manga. One is originally owned by Misty, but is traded between Red and Blue. The other is a red Gyarados that is owned by Silver. Since it appeared in the Pokémon series, Gyarados has received generally positive reception. It has been featured in several forms of merchandise, including figurines, plush toys, and the Pokémon Trading Card Game. Gyarados has been described as both one of the most well known and most powerful Pokémon. With the exceptions of Bounce and Hurricane (introduced in Generation IV and onwards), it cannot learn flying type moves.\\n\\n\\nDesign and characteristics\\nGyarados was one of 151 different designs conceived by Game Freak\\'s character development team and finalized by Ken Sugimori for the first generation of Pocket Monsters games Red and Green, which were localized outside Japan as Pokémon Red and Blue. Originally called \"Gyarados\" in Japanese, Nintendo decided to give the various Pokémon species \"clever and descriptive names\" related to their appearance or features when translating the game for western audiences as a means to make the characters more relatable to American children. As a result, the species\\' beta name was \"Skulkraken\", a combination of \"skull\" or \"skulk\" and \"kraken\", but in the final release the original Japanese name was used.\\nGyarados is a large sea serpent Pokémon most similar in appearance to dragons seen in Chinese mythology. The concept of Magikarp evolving into Gyarados is based on the ancient Chinese tradition that the carp would evolve into a dragon after swimming upstream. Its snakelike body is largely blue, but its underbelly is pale yellow. It has four white fins down its back, and a large and gaping mouth. Gyarados is known for its fierce temper and wanton destructive tendencies. Once it has worked itself into a frenzy, it will not calm until everything around it is destroyed, and can even go on for a whole month. This violent nature is attributed to the dramatic structural changes its brain undergoes during evolution. During times of human conflict Gyarados are said to appear, burning entire cities down to the ground. Gyarados usually live in large bodies of water, such as lakes and ponds or even seas and oceans.\\n\\n\\nAppearances\\n\\n\\nIn video games\\nGyarados first appears in the Pokémon video game series in Pokémon Red and Blue, and later appears in every subsequent sequel. Gyarados is found uncommonly when fishing with a Super Rod, and evolves from Magikarp when gaining enough experience in battle. In Pokémon Gold, Silver, and Crystal, and their remakes, a red Gyarados is found in the Lake of Rage. The player has one chance to catch it, (but in HeartGold and SoulSilver, it will come back after the player defeats the Elite Four) and the incident triggers the battle against Team Rocket in the Rocket Hideout in Mahogany Town. This Gyarados is mentioned at the beginning of Diamond and Pearl when the player sets out on their quest. Gyarados is used by many notable trainers such as Blue, Clair, Lance, Wallace, Pike Queen Lucy, Crasher Wake, and Cyrus. Gyarados is one of several Pokémon to gain a Mega Evolution in Pokémon X and Y. When it Mega Evolves, it becomes a Water/Dark type and gains the ability Mold Breaker.\\nGyarados makes many appearances outside of the main series, including appearances in Pokémon Snap, Pokémon Trading Card Game, Pokémon Mystery Dungeon: Blue Rescue Team and Red Rescue Team, Pokémon Ranger, and Pokémon Go. In Pokémon Mystery Dungeon: Explorers of Time and Explorers of Darkness, a Gyarados appears in the Miracle Sea. He attempts to take control of Phione, but is halted by the player\\'s team. In PokéPark Wii: Pikachu\\'s Adventure, Gyarados tries to take over the Beach Zone in Empoleon\\'s absence, and is the host of a mini-game called \"Aqua Dash\". In Pokémon Go, Gyarados is generally considered one of the most difficult Pokémon to obtain - it must be evolved from a Magikarp (much like other Pokémon games) and requires 400 Magikarp candies to evolve, more than any other Pokémon in the game. In Pokkén Tournament and its deluxe Switch version, Gyarados has been shown in the Magikarp Festival as one of these arenas as only a background character, spectating a battle between the playable fighter Pokémon.\\n\\n\\nIn anime\\nIn the anime, Gyarados first appeared in Pokémon - I Choose You! swimming in a river. It was then seen in Pokémon Shipwreck, where James kicked his Magikarp out of frustration, and it evolved into a Gyarados. Misty owns a Gyarados. At first, she fearfully dislikes Gyarados due to a traumatic experience, but manages to get over the fear, take over the Cerulean City Gym, and add one to her team. Talkin\\' \\'Bout an Evolution and Rage Of Innocence focused on a red Gyarados. It was on a destructive rampage until Lance captured it. This Gyarados appeared again in Gaining Groudon and The Scuffle of Legends to stop the feuding of Groudon and Kyogre. Gyarados has appeared many other times under the ownership of various trainers, such as Crasher Wake and Nurse Joy. In Coming Apart at the Dreams! a Shiny red Gyarados and its Mega Evolved form has been under ownership and usage by Team Flare Mastermind Lysandre until it, along with Lysandre and his male Pyroar, are killed in Forming a More Perfect Union!\\n\\n\\nIn printed adaptations\\nIn Pokémon Adventures, Gyarados debuts in the Red, Green & Blue chapter in Gyarados Splashes In!. Here, an enraged one attacks its own trainer, Misty, but is recaught by Red, who returns it to her. Later on, Misty traded this Gyarados to Red in exchange for Red\\'s Krabby. When Red borrows Blue\\'s Charizard to travel to Mt. Silver, he temporarily trades his Gyarados to Blue. It later appears as one of Blue\\'s Pokémon in Volume 13, used against Entei, and later part of his revealed team during the Gym Leader faceoff. Prior to the FireRed and LeafGreen saga, Blue returns Gyarados to Red.\\nA red Gyarados was the leader of a group of Gyarados. When Team Rocket used the Goldenrod City Radio Tower to disturb Pokémon, these Gyarados went crazy. At the end, it was caught by Silver. After a battle with the Masked Man, this Gyarados was frozen and remained at the bottom of Lake of Rage until Lt. Surge discovered it. Gyarados was able to free himself and Lt. Surge returned it to Silver. Misty owns a Gyarados in the Electric Tale of Pikachu manga. It is used against Ash in their gym battle.\\n\\n\\nReception\\nSince it appeared in the Pokémon series, Gyarados has received generally positive reception. It has been featured in several forms of merchandise, including figurines, plush toys, and the Pokémon Trading Card Game.\\nThough GamesRadar described Magikarp as \"[t]he ultimate in useless Pokémon\", they described Gyarados as one of the \"most well-known\" characters in the series. They also featured it as their \"Pokémon of the week\". While discussing Shiny Pokémon, GamesRadar used Gyarados\\' shiny form as an example of a more dramatic change in appearance. They later called it \"weird for being a Water/Flying type, but not being able to learn any flying moves at all (except for Bounce)\". Wired\\'s John Mix Meyer described it as a \"classic powerhouse\", and GameSpy editor Justin Leeper called Gyarados a choice for \"more macho gamers\". IGN called it \"one of the most powerful Pokémon ever encountered\", comparing it to the image of Chinese mythological dragons. They also listed it as one of the \"best flying type Pokémon\", describing it as a \"flying sea snake.\"\\nAuthor Ash Dekirk wrote that Gyarados and Magikarp were inspired by the Asiatic myth of the Dragon Gate. He adds that it is \"scaled in sapphire\" with \"catfish barbels\" on its \"somewhat blunted snout\". Author Loredane Lipperini similarly described Gyarados as resembling something from the Chinese New Year. IGN\\'s \"Pokémon of the Day Chick\" expressed dismay at Gyarados in Pokémon Crystal, commenting that while in its predecessors Pokémon Red, Blue, and Yellow, it was one of the \"most valuable Pokémon\", they ruined it by giving it very low special attack in this game. IGN described the growth from Pokémon Diamond and Pearl to Pokémon Black and White\\'\\' as possibly being the \"series\\' biggest evolution since Magikarp morphed into Gyarados\". IGN commented that a Pokémon game better than Black and White was Pokémon Snap, citing one of their \"favorite experiences\" as where the player can throw Pester Balls at a Magikarp to make it evolve into Gyarados and attack the player. Author Tracy West named Gyarados the \"fourth best Water-type Pokémon\". IGN readers voted Gyarados as the 11th best Pokémon. Editor Sam wrote, \"This iconic Flying and Water Type Pokémon from the first generation of games epitomizes the trials and tribulations of training even the lamest of Pokémon.\" He says further, \"Sure, everyone made fun of you as you toted around a Magikarp, but who’s laughing now -- Now that it’s evolved into a badass sea dragon Gyarados!\" In the newest iteration of the series, Pokémon Go, the Gyarados is evolved by obtaining 400 Magikarp Candies. This continues the traditional difficulty but worthiness of obtaining a Gyarados.\\n\\n\\nReferences\\n\\n\\nExternal links\\n\\nGyarados on Bulbapedia\\n'"
            ]
          },
          "metadata": {},
          "execution_count": 5
        }
      ]
    },
    {
      "cell_type": "code",
      "metadata": {
        "id": "NlPoT7vvvVFW",
        "colab": {
          "base_uri": "https://localhost:8080/"
        },
        "outputId": "2dae90bd-db8d-4ad9-c60c-75bf54cbd641"
      },
      "source": [
        "#some code suggested lda\n",
        "w2v_model = api.load(\"word2vec-google-news-300\") #one time download"
      ],
      "execution_count": null,
      "outputs": [
        {
          "output_type": "stream",
          "name": "stdout",
          "text": [
            "[==================================================] 100.0% 1662.8/1662.8MB downloaded\n"
          ]
        }
      ]
    },
    {
      "cell_type": "code",
      "metadata": {
        "id": "MPN69-qVF-Vr",
        "colab": {
          "base_uri": "https://localhost:8080/"
        },
        "outputId": "127238ec-3fc6-42b4-c268-6459d645451b"
      },
      "source": [
        "'''import gensim\n",
        "nltk.download('brown')\n",
        "nltk.download('word2vec_sample')\n",
        "from nltk.corpus import brown\n",
        "from nltk.data import find\n",
        "word2vec_sample = str(find('models/word2vec_sample/pruned.word2vec.txt'))\n",
        "w2v_model = gensim.models.KeyedVectors.load_word2vec_format(word2vec_sample, binary=False)'''"
      ],
      "execution_count": null,
      "outputs": [
        {
          "output_type": "stream",
          "name": "stderr",
          "text": [
            "[nltk_data] Downloading package brown to /root/nltk_data...\n",
            "[nltk_data]   Unzipping corpora/brown.zip.\n",
            "[nltk_data] Downloading package word2vec_sample to /root/nltk_data...\n",
            "[nltk_data]   Unzipping models/word2vec_sample.zip.\n"
          ]
        }
      ]
    },
    {
      "cell_type": "markdown",
      "metadata": {
        "id": "_ig0JOvbCMhY"
      },
      "source": [
        "\n",
        "# Baseline"
      ]
    },
    {
      "cell_type": "code",
      "metadata": {
        "id": "x36kDymr8Li1"
      },
      "source": [
        "class Pipeline():\n",
        "    def __init__(self):\n",
        "       \n",
        "      self.w2v_model=w2v_model\n",
        "\n",
        "    def text_preprocessing(self,text):\n",
        "        \"\"\"\n",
        "            The numbers, alphanumeric, punctuation and stopwords  will be removed from the text.\n",
        "        \"\"\"\n",
        "        #words = set(nltk.corpus.words.words())\n",
        "        #text = \" \".join(w for w in nltk.wordpunct_tokenize(text) if w.lower() in words or not w.isalpha())\n",
        "        sentences = sent_tokenize(text) #array of sentences\n",
        "        sentences_clean = [ re.sub(r'[0-9]+[a-z]*','',sentence.lower()) for sentence in sentences] # remove number and alphanumeric\n",
        "        sentences_clean = [ re.sub(r'[^\\w\\s]','',sentence) for sentence in sentences_clean] #remove punctuattion except whitespacce, tabs and newline\n",
        "        \n",
        "        stop_words = stopwords.words('english')\n",
        "        sentence_tokens = [[ word for word in sentence.split(\" \") if word not in stop_words and word] for sentence in sentences_clean]\n",
        "\n",
        "        return sentence_tokens,sentences\n",
        "\n",
        "    def Stemming(self,tokens):\n",
        "        \"\"\"\n",
        "            Multiple stemmer Porter Stemmer (5 level suufix mapping rules) and Snowfall Stemmer\n",
        "        \"\"\"\n",
        "        pass\n",
        "    \n",
        "    def pos(self, text):\n",
        "        \"\"\"\n",
        "              This Function will do the part of the speech tagging.\n",
        "        \"\"\"\n",
        "        doc = nlp(text)\n",
        "        for token in doc:\n",
        "          print(token, \"->\", token.pos_)\n",
        "    \n",
        "    def similar_words(self,word):\n",
        "      \"\"\"\n",
        "          Find similar words of answer keywors\n",
        "      \"\"\"\n",
        "      similar_w = self.w2v_model.most_similar(positive = word,topn=3)\n",
        "      return [i[0] for i in similar_w]\n",
        "\n",
        "    def top_sentences(self, text, sentences, num_ques=1):\n",
        "        \"\"\"\n",
        "            Using text rank algorithm finding top sentences from the text\n",
        "        \"\"\"\n",
        "        self.w2v=Word2Vec(text,size=1,min_count=1,iter=1000,window=2)\n",
        "        sentence_embeddings=[[self.w2v[word][0] for word in words] for words in text]\n",
        "        max_len=max([len(tokens) for tokens in text])\n",
        "        sentence_embeddings=[np.pad(embedding,(0,max_len-len(embedding)),'constant') for embedding in sentence_embeddings]\n",
        "        similarity_matrix = np.zeros([len(text), len(text)])\n",
        "        for i,row_embedding in enumerate(sentence_embeddings):\n",
        "          for j,column_embedding in enumerate(sentence_embeddings):\n",
        "            similarity_matrix[i][j]=1-spatial.distance.cosine(row_embedding,column_embedding)\n",
        "        nx_graph = nx.from_numpy_array(similarity_matrix)\n",
        "        scores = nx.pagerank(nx_graph)\n",
        "        top_sentence={sentence:scores[index] for index,sentence in enumerate(sentences)}\n",
        "        top=dict(sorted(top_sentence.items(), key=lambda x: x[1], reverse=True)[:num_ques])\n",
        "\n",
        "        return top\n",
        "\n",
        "\n",
        "    def keywords_extraction(self, sent_list):\n",
        "        \"\"\"\n",
        "            Extract keywords from list of sentences using rake nltk\n",
        "        \"\"\"\n",
        "        r = Rake()\n",
        "\n",
        "        # Extraction given the list of strings where each string is a sentence.\n",
        "        r.extract_keywords_from_text(sent_list)\n",
        "        return r.get_ranked_phrases()\n",
        "      \n",
        "    def prediction(self,article):\n",
        "        \"\"\"\n",
        "        An article/ a sentence passed as an input and fill up as an ouput \n",
        "        \"\"\"\n",
        "        text,sentences=self.text_preprocessing(article)\n",
        "\n",
        "        top_sentences=self.top_sentences(text,sentences)\n",
        "        itr=1;\n",
        "        for key, value in top_sentences.items():\n",
        "            main_keywords=self.keywords_extraction(key)\n",
        "            #print(main_keywords)\n",
        "            #genQuestion(key)\n",
        "            print(\"Fill Up %s : %s  \"%(str(itr),key.lower().replace(main_keywords[0],\"______\")))\n",
        "            similar_options = w2v_model.most_similar(positive=main_keywords[0].split()[:2], topn = 3)\n",
        "            #print(similar_options)\n",
        "            similar_options=list(list(zip(*similar_options))[0])\n",
        "            #print(similar_options)\n",
        "            #similar_options = self.similar_words(main_keywords[0])\n",
        "            similar_options.insert(3, main_keywords[0])\n",
        "            shuffle(similar_options)\n",
        "            print(similar_options)\n",
        "            #print(shuffle(options))\n",
        "            itr+=1\n",
        "            print(\"\\n\")\n",
        "\n",
        "\n",
        "      "
      ],
      "execution_count": 114,
      "outputs": []
    },
    {
      "cell_type": "code",
      "metadata": {
        "id": "D4ltI5tXQa8c"
      },
      "source": [
        "\n",
        "def genQuestion(line):\n",
        "    \"\"\"\n",
        "    outputs question from the given text\n",
        "    \"\"\"\n",
        "    if type(line) is str:     \n",
        "        line = TextBlob(line) \n",
        "    bucket = {}               \n",
        "\n",
        "    for i,j in enumerate(line.tags):\n",
        "        if j[1] not in bucket:\n",
        "            bucket[j[1]] = i  \n",
        "    \n",
        "    question = ''     \n",
        "\n",
        "    l = [['NNP', 'VBG', 'VBZ', 'IN'],['NNP', 'VBG', 'VBZ'],['PRP', 'VBG', 'VBZ', 'IN'],['PRP', 'VBG', 'VBZ'],['PRP', 'VBG', 'VBD'],['NNP', 'VBG', 'VBD'],['NN', 'VBG', 'VBZ'],['NNP', 'VBZ', 'JJ'],['NNP', 'VBZ', 'NN'],['NNP', 'VBZ'],['PRP', 'VBZ'],['NNP', 'NN', 'IN'],['NN', 'VBZ']]  \n",
        "    \n",
        "    if all(key in  bucket for key in l[0]): #'NNP', 'VBG', 'VBZ', 'IN' in sentence.\n",
        "        question = 'What' + ' ' + line.words[bucket['VBZ']] +' '+ line.words[bucket['NNP']]+ ' '+ line.words[bucket['VBG']] + '?'\n",
        "\n",
        "    \n",
        "    elif all(key in  bucket for key in l[1]): #'NNP', 'VBG', 'VBZ' in sentence.\n",
        "        question = 'What' + ' ' + line.words[bucket['VBZ']] +' '+ line.words[bucket['NNP']] +' '+ line.words[bucket['VBG']] + '?'\n",
        "\n",
        "    elif all(key in  bucket for key in l[2]): #'PRP', 'VBG', 'VBZ', 'IN' in sentence.\n",
        "        question = 'What' + ' ' + line.words[bucket['VBZ']] +' '+ line.words[bucket['PRP']]+ ' '+ line.words[bucket['VBG']] + '?'\n",
        "\n",
        "    elif all(key in  bucket for key in l[3]): #'PRP', 'VBG', 'VBZ' in sentence.\n",
        "        question = 'What ' + line.words[bucket['PRP']] +' '+  ' does ' + line.words[bucket['VBG']]+ ' '+  line.words[bucket['VBG']] + '?'\n",
        "\n",
        "    elif all(key in  bucket for key in l[6]): #'NN', 'VBG', 'VBZ' in sentence.\n",
        "        question = 'What' + ' ' + line.words[bucket['VBZ']] +' '+ line.words[bucket['NN']] +' '+ line.words[bucket['VBG']] + '?'\n",
        "\n",
        "    elif all(key in bucket for key in l[7]): #'NNP', 'VBZ', 'JJ' in sentence.\n",
        "        question = 'What' + ' ' + line.words[bucket['VBZ']] + ' ' + line.words[bucket['NNP']] + '?'\n",
        "\n",
        "    elif all(key in bucket for key in l[8]): #'NNP', 'VBZ', 'NN' in sentence\n",
        "        question = 'What' + ' ' + line.words[bucket['VBZ']] + ' ' + line.words[bucket['NNP']] + '?'\n",
        "\n",
        "    elif all(key in bucket for key in l[10]): #'PRP', 'VBZ' in sentence.\n",
        "        if line.words[bucket['PRP']] in ['she','he']:\n",
        "            question = 'What' + ' does ' + line.words[bucket['PRP']].lower() + ' ' + line.words[bucket['VBZ']].singularize() + '?'\n",
        "\n",
        "    elif all(key in bucket for key in l[9]): #'NNP', 'VBZ' in sentence.\n",
        "        question = 'What' + ' does ' + line.words[bucket['NNP']] + ' ' + line.words[bucket['VBZ']].singularize() + '?'\n",
        "\n",
        "    elif all(key in bucket for key in l[12]): #'NN', 'VBZ' in sentence.\n",
        "        question = 'What' + ' ' + line.words[bucket['VBZ']] + ' ' + line.words[bucket['NN']] + '?'\n",
        "\n",
        "    if 'VBZ' in bucket and line.words[bucket['VBZ']] == \"’\":\n",
        "        question = question.replace(\" ’ \",\"'s \")\n",
        "        \n",
        "    if question != '':\n",
        "        print('\\n', 'Question: ' + question )"
      ],
      "execution_count": 115,
      "outputs": []
    },
    {
      "cell_type": "code",
      "metadata": {
        "id": "4OyZFe5-sfAD",
        "colab": {
          "base_uri": "https://localhost:8080/"
        },
        "outputId": "8f59608e-beae-466a-d92e-6d18ca343262"
      },
      "source": [
        "obj_pipeline = Pipeline()\n",
        "obj_pipeline.prediction(\"Today is the wonderful.\") #error handling for most similar"
      ],
      "execution_count": 118,
      "outputs": [
        {
          "output_type": "stream",
          "name": "stdout",
          "text": [
            "Fill Up 1 : today is the ______.  \n",
            "['great', 'marvelous', 'wonderful', 'fantastic']\n",
            "\n",
            "\n"
          ]
        }
      ]
    },
    {
      "cell_type": "code",
      "metadata": {
        "id": "BE5YXyOJwR9L",
        "colab": {
          "base_uri": "https://localhost:8080/"
        },
        "outputId": "b70b4c39-1048-4c44-d5d2-65b8b98c24c3"
      },
      "source": [
        " \n",
        "for i in range(1,10):\n",
        "  k=str(i)\n",
        "  loc=\"/content/noun_counting_data/a\"+ k +\".txt\"\n",
        "  with open(loc) as f:\n",
        "    text = f.read()\n",
        "    print(\"\\n\\nNew Article\\n\\n\")\n",
        "    print(\"Fill in the blanks\\n\")\n",
        "    obj_pipeline = Pipeline()\n",
        "    text,sentences=obj_pipeline.text_preprocessing(text)\n",
        "    print(text)\n",
        "    print(sentences)\n",
        "    top_sentences=obj_pipeline.top_sentences(text,sentences)\n",
        "    itr=1;\n",
        "    for key, value in top_sentences.items():\n",
        "      main_keywords=obj_pipeline.keywords_extraction(key)\n",
        "      #print(main_keywords)\n",
        "      genQuestion(key)\n",
        "      print(\"Fill Up %s : %s  \"%(str(itr),key.lower().replace(main_keywords[0],\"______\")))\n",
        "      similar_options = w2v_model.most_similar(positive=main_keywords[0].split()[:2], topn = 3)\n",
        "      #print(similar_options)\n",
        "      similar_options=list(list(zip(*similar_options))[0])\n",
        "      #print(similar_options)\n",
        "      #similar_options = self.similar_words(main_keywords[0])\n",
        "      similar_options.insert(3, main_keywords[0])\n",
        "      print(similar_options)\n",
        "      #print(shuffle(options))\n",
        "      itr+=1\n",
        "      print(\"\\n\")\n",
        "      break\n",
        "    break\n",
        "   "
      ],
      "execution_count": 100,
      "outputs": [
        {
          "output_type": "stream",
          "name": "stdout",
          "text": [
            "\n",
            "\n",
            "New Article\n",
            "\n",
            "\n",
            "Fill in the blanks\n",
            "\n",
            "[['gyarados\\n\\n\\ngyarados', 'ギャラドス', 'gyaradosu', 'pokémon', 'species', 'nintendo', 'game', 'freaks', 'pokémon', 'franchise'], ['created', 'ken', 'sugimori', 'gyarados', 'first', 'appeared', 'video', 'games', 'pokémon', 'red', 'pokemon', 'green', 'subsequent', 'sequels', 'later', 'appearing', 'various', 'merchandise', 'spinoff', 'titles', 'animated', 'printed', 'adaptations', 'franchise'], ['gyarados', 'voiced', 'unshō', 'ishizuka', 'japanese', 'english', 'media'], ['known', 'atrocious', 'pokémon', 'gyarados', 'evolved', 'form', 'magikarp', 'well', 'known', 'pokémon', 'world', 'fierce', 'temper', 'well', 'reputation', 'causing', 'nothing', 'destruction', 'much', 'worked', 'frenzy', 'calm', 'everything', 'around', 'destroyed'], ['gyarados', 'appears', 'multiple', 'times', 'anime', 'various', 'trainers', 'misty', 'lance', 'crasher', 'wake', 'nurse', 'joy'], ['two', 'different', 'gyarados', 'appear', 'pokémon', 'adventures', 'manga'], ['one', 'originally', 'owned', 'misty', 'traded', 'red', 'blue'], ['red', 'gyarados', 'owned', 'silver'], ['since', 'appeared', 'pokémon', 'series', 'gyarados', 'received', 'generally', 'positive', 'reception'], ['featured', 'several', 'forms', 'merchandise', 'including', 'figurines', 'plush', 'toys', 'pokémon', 'trading', 'card', 'game'], ['gyarados', 'described', 'one', 'well', 'known', 'powerful', 'pokémon'], ['exceptions', 'bounce', 'hurricane', 'introduced', 'generation', 'iv', 'onwards', 'cannot', 'learn', 'flying', 'type', 'moves'], ['design', 'characteristics\\ngyarados', 'one', 'different', 'designs', 'conceived', 'game', 'freaks', 'character', 'development', 'team', 'finalized', 'ken', 'sugimori', 'first', 'generation', 'pocket', 'monsters', 'games', 'red', 'green', 'localized', 'outside', 'japan', 'pokémon', 'red', 'blue'], ['originally', 'called', 'gyarados', 'japanese', 'nintendo', 'decided', 'give', 'various', 'pokémon', 'species', 'clever', 'descriptive', 'names', 'related', 'appearance', 'features', 'translating', 'game', 'western', 'audiences', 'means', 'make', 'characters', 'relatable', 'american', 'children'], ['result', 'species', 'beta', 'name', 'skulkraken', 'combination', 'skull', 'skulk', 'kraken', 'final', 'release', 'original', 'japanese', 'name', 'used'], ['gyarados', 'large', 'sea', 'serpent', 'pokémon', 'similar', 'appearance', 'dragons', 'seen', 'chinese', 'mythology'], ['concept', 'magikarp', 'evolving', 'gyarados', 'based', 'ancient', 'chinese', 'tradition', 'carp', 'would', 'evolve', 'dragon', 'swimming', 'upstream'], ['snakelike', 'body', 'largely', 'blue', 'underbelly', 'pale', 'yellow'], ['four', 'white', 'fins', 'back', 'large', 'gaping', 'mouth'], ['gyarados', 'known', 'fierce', 'temper', 'wanton', 'destructive', 'tendencies'], ['worked', 'frenzy', 'calm', 'everything', 'around', 'destroyed', 'even', 'go', 'whole', 'month'], ['violent', 'nature', 'attributed', 'dramatic', 'structural', 'changes', 'brain', 'undergoes', 'evolution'], ['times', 'human', 'conflict', 'gyarados', 'said', 'appear', 'burning', 'entire', 'cities', 'ground'], ['gyarados', 'usually', 'live', 'large', 'bodies', 'water', 'lakes', 'ponds', 'even', 'seas', 'oceans'], ['appearances\\n\\n\\nin', 'video', 'games\\ngyarados', 'first', 'appears', 'pokémon', 'video', 'game', 'series', 'pokémon', 'red', 'blue', 'later', 'appears', 'every', 'subsequent', 'sequel'], ['gyarados', 'found', 'uncommonly', 'fishing', 'super', 'rod', 'evolves', 'magikarp', 'gaining', 'enough', 'experience', 'battle'], ['pokémon', 'gold', 'silver', 'crystal', 'remakes', 'red', 'gyarados', 'found', 'lake', 'rage'], ['player', 'one', 'chance', 'catch', 'heartgold', 'soulsilver', 'come', 'back', 'player', 'defeats', 'elite', 'four', 'incident', 'triggers', 'battle', 'team', 'rocket', 'rocket', 'hideout', 'mahogany', 'town'], ['gyarados', 'mentioned', 'beginning', 'diamond', 'pearl', 'player', 'sets', 'quest'], ['gyarados', 'used', 'many', 'notable', 'trainers', 'blue', 'clair', 'lance', 'wallace', 'pike', 'queen', 'lucy', 'crasher', 'wake', 'cyrus'], ['gyarados', 'one', 'several', 'pokémon', 'gain', 'mega', 'evolution', 'pokémon', 'x'], ['mega', 'evolves', 'becomes', 'waterdark', 'type', 'gains', 'ability', 'mold', 'breaker'], ['gyarados', 'makes', 'many', 'appearances', 'outside', 'main', 'series', 'including', 'appearances', 'pokémon', 'snap', 'pokémon', 'trading', 'card', 'game', 'pokémon', 'mystery', 'dungeon', 'blue', 'rescue', 'team', 'red', 'rescue', 'team', 'pokémon', 'ranger', 'pokémon', 'go'], ['pokémon', 'mystery', 'dungeon', 'explorers', 'time', 'explorers', 'darkness', 'gyarados', 'appears', 'miracle', 'sea'], ['attempts', 'take', 'control', 'phione', 'halted', 'players', 'team'], ['poképark', 'wii', 'pikachus', 'adventure', 'gyarados', 'tries', 'take', 'beach', 'zone', 'empoleons', 'absence', 'host', 'minigame', 'called', 'aqua', 'dash'], ['pokémon', 'go', 'gyarados', 'generally', 'considered', 'one', 'difficult', 'pokémon', 'obtain', 'must', 'evolved', 'magikarp', 'much', 'like', 'pokémon', 'games', 'requires', 'magikarp', 'candies', 'evolve', 'pokémon', 'game'], ['pokkén', 'tournament', 'deluxe', 'switch', 'version', 'gyarados', 'shown', 'magikarp', 'festival', 'one', 'arenas', 'background', 'character', 'spectating', 'battle', 'playable', 'fighter', 'pokémon'], ['anime\\nin', 'anime', 'gyarados', 'first', 'appeared', 'pokémon', 'choose'], ['swimming', 'river'], ['seen', 'pokémon', 'shipwreck', 'james', 'kicked', 'magikarp', 'frustration', 'evolved', 'gyarados'], ['misty', 'owns', 'gyarados'], ['first', 'fearfully', 'dislikes', 'gyarados', 'due', 'traumatic', 'experience', 'manages', 'get', 'fear', 'take', 'cerulean', 'city', 'gym', 'add', 'one', 'team'], ['talkin', 'bout', 'evolution', 'rage', 'innocence', 'focused', 'red', 'gyarados'], ['destructive', 'rampage', 'lance', 'captured'], ['gyarados', 'appeared', 'gaining', 'groudon', 'scuffle', 'legends', 'stop', 'feuding', 'groudon', 'kyogre'], ['gyarados', 'appeared', 'many', 'times', 'ownership', 'various', 'trainers', 'crasher', 'wake', 'nurse', 'joy'], ['coming', 'apart', 'dreams'], ['shiny', 'red', 'gyarados', 'mega', 'evolved', 'form', 'ownership', 'usage', 'team', 'flare', 'mastermind', 'lysandre', 'along', 'lysandre', 'male', 'pyroar', 'killed', 'forming', 'perfect', 'union'], ['printed', 'adaptations\\nin', 'pokémon', 'adventures', 'gyarados', 'debuts', 'red', 'green', 'blue', 'chapter', 'gyarados', 'splashes'], ['enraged', 'one', 'attacks', 'trainer', 'misty', 'recaught', 'red', 'returns'], ['later', 'misty', 'traded', 'gyarados', 'red', 'exchange', 'reds', 'krabby'], ['red', 'borrows', 'blues', 'charizard', 'travel', 'mt'], ['silver', 'temporarily', 'trades', 'gyarados', 'blue'], ['later', 'appears', 'one', 'blues', 'pokémon', 'volume', 'used', 'entei', 'later', 'part', 'revealed', 'team', 'gym', 'leader', 'faceoff'], ['prior', 'firered', 'leafgreen', 'saga', 'blue', 'returns', 'gyarados', 'red'], ['red', 'gyarados', 'leader', 'group', 'gyarados'], ['team', 'rocket', 'used', 'goldenrod', 'city', 'radio', 'tower', 'disturb', 'pokémon', 'gyarados', 'went', 'crazy'], ['end', 'caught', 'silver'], ['battle', 'masked', 'man', 'gyarados', 'frozen', 'remained', 'bottom', 'lake', 'rage', 'lt', 'surge', 'discovered'], ['gyarados', 'able', 'free', 'lt', 'surge', 'returned', 'silver'], ['misty', 'owns', 'gyarados', 'electric', 'tale', 'pikachu', 'manga'], ['used', 'ash', 'gym', 'battle'], ['reception\\nsince', 'appeared', 'pokémon', 'series', 'gyarados', 'received', 'generally', 'positive', 'reception'], ['featured', 'several', 'forms', 'merchandise', 'including', 'figurines', 'plush', 'toys', 'pokémon', 'trading', 'card', 'game'], ['though', 'gamesradar', 'described', 'magikarp', 'ultimate', 'useless', 'pokémon', 'described', 'gyarados', 'one', 'wellknown', 'characters', 'series'], ['also', 'featured', 'pokémon', 'week'], ['discussing', 'shiny', 'pokémon', 'gamesradar', 'used', 'gyarados', 'shiny', 'form', 'example', 'dramatic', 'change', 'appearance'], ['later', 'called', 'weird', 'waterflying', 'type', 'able', 'learn', 'flying', 'moves', 'except', 'bounce'], ['wireds', 'john', 'mix', 'meyer', 'described', 'classic', 'powerhouse', 'gamespy', 'editor', 'justin', 'leeper', 'called', 'gyarados', 'choice', 'macho', 'gamers'], ['ign', 'called', 'one', 'powerful', 'pokémon', 'ever', 'encountered', 'comparing', 'image', 'chinese', 'mythological', 'dragons'], ['also', 'listed', 'one', 'best', 'flying', 'type', 'pokémon', 'describing', 'flying', 'sea', 'snake'], ['author', 'ash', 'dekirk', 'wrote', 'gyarados', 'magikarp', 'inspired', 'asiatic', 'myth', 'dragon', 'gate'], ['adds', 'scaled', 'sapphire', 'catfish', 'barbels', 'somewhat', 'blunted', 'snout'], ['author', 'loredane', 'lipperini', 'similarly', 'described', 'gyarados', 'resembling', 'something', 'chinese', 'new', 'year'], ['igns', 'pokémon', 'day', 'chick', 'expressed', 'dismay', 'gyarados', 'pokémon', 'crystal', 'commenting', 'predecessors', 'pokémon', 'red', 'blue', 'yellow', 'one', 'valuable', 'pokémon', 'ruined', 'giving', 'low', 'special', 'attack', 'game'], ['ign', 'described', 'growth', 'pokémon', 'diamond', 'pearl', 'pokémon', 'black', 'white', 'possibly', 'series', 'biggest', 'evolution', 'since', 'magikarp', 'morphed', 'gyarados'], ['ign', 'commented', 'pokémon', 'game', 'better', 'black', 'white', 'pokémon', 'snap', 'citing', 'one', 'favorite', 'experiences', 'player', 'throw', 'pester', 'balls', 'magikarp', 'make', 'evolve', 'gyarados', 'attack', 'player'], ['author', 'tracy', 'west', 'named', 'gyarados', 'fourth', 'best', 'watertype', 'pokémon'], ['ign', 'readers', 'voted', 'gyarados', 'best', 'pokémon'], ['editor', 'sam', 'wrote', 'iconic', 'flying', 'water', 'type', 'pokémon', 'first', 'generation', 'games', 'epitomizes', 'trials', 'tribulations', 'training', 'even', 'lamest', 'pokémon'], ['says', 'sure', 'everyone', 'made', 'fun', 'toted', 'around', 'magikarp', 'whos', 'laughing', 'evolved', 'badass', 'sea', 'dragon', 'gyarados'], ['newest', 'iteration', 'series', 'pokémon', 'go', 'gyarados', 'evolved', 'obtaining', 'magikarp', 'candies'], ['continues', 'traditional', 'difficulty', 'worthiness', 'obtaining', 'gyarados'], ['references\\n\\n\\nexternal', 'links\\n\\ngyarados', 'bulbapedia']]\n",
            "[\"Gyarados\\n\\n\\nGyarados (ギャラドス, Gyaradosu,  or ) is a Pokémon species in Nintendo and Game Freak's Pokémon franchise.\", 'Created by Ken Sugimori, Gyarados first appeared in the video games Pokémon Red and Pokemon Green and subsequent sequels, later appearing in various merchandise, spinoff titles and animated and printed adaptations of the franchise.', 'Gyarados is voiced by Unshō Ishizuka in both Japanese and English media.', 'Known as the Atrocious Pokémon, Gyarados is the evolved form of Magikarp and it is well known in the Pokémon world for its fierce temper as well as its reputation for causing nothing but destruction so much so that once it has worked itself into a frenzy, it will not calm down until everything around it has been destroyed.', 'Gyarados appears multiple times in the anime under various trainers such as Misty, Lance, Crasher Wake, and Nurse Joy.', 'Two different Gyarados appear in the Pokémon Adventures manga.', 'One is originally owned by Misty, but is traded between Red and Blue.', 'The other is a red Gyarados that is owned by Silver.', 'Since it appeared in the Pokémon series, Gyarados has received generally positive reception.', 'It has been featured in several forms of merchandise, including figurines, plush toys, and the Pokémon Trading Card Game.', 'Gyarados has been described as both one of the most well known and most powerful Pokémon.', 'With the exceptions of Bounce and Hurricane (introduced in Generation IV and onwards), it cannot learn flying type moves.', \"Design and characteristics\\nGyarados was one of 151 different designs conceived by Game Freak's character development team and finalized by Ken Sugimori for the first generation of Pocket Monsters games Red and Green, which were localized outside Japan as Pokémon Red and Blue.\", 'Originally called \"Gyarados\" in Japanese, Nintendo decided to give the various Pokémon species \"clever and descriptive names\" related to their appearance or features when translating the game for western audiences as a means to make the characters more relatable to American children.', 'As a result, the species\\' beta name was \"Skulkraken\", a combination of \"skull\" or \"skulk\" and \"kraken\", but in the final release the original Japanese name was used.', 'Gyarados is a large sea serpent Pokémon most similar in appearance to dragons seen in Chinese mythology.', 'The concept of Magikarp evolving into Gyarados is based on the ancient Chinese tradition that the carp would evolve into a dragon after swimming upstream.', 'Its snakelike body is largely blue, but its underbelly is pale yellow.', 'It has four white fins down its back, and a large and gaping mouth.', 'Gyarados is known for its fierce temper and wanton destructive tendencies.', 'Once it has worked itself into a frenzy, it will not calm until everything around it is destroyed, and can even go on for a whole month.', 'This violent nature is attributed to the dramatic structural changes its brain undergoes during evolution.', 'During times of human conflict Gyarados are said to appear, burning entire cities down to the ground.', 'Gyarados usually live in large bodies of water, such as lakes and ponds or even seas and oceans.', 'Appearances\\n\\n\\nIn video games\\nGyarados first appears in the Pokémon video game series in Pokémon Red and Blue, and later appears in every subsequent sequel.', 'Gyarados is found uncommonly when fishing with a Super Rod, and evolves from Magikarp when gaining enough experience in battle.', 'In Pokémon Gold, Silver, and Crystal, and their remakes, a red Gyarados is found in the Lake of Rage.', 'The player has one chance to catch it, (but in HeartGold and SoulSilver, it will come back after the player defeats the Elite Four) and the incident triggers the battle against Team Rocket in the Rocket Hideout in Mahogany Town.', 'This Gyarados is mentioned at the beginning of Diamond and Pearl when the player sets out on their quest.', 'Gyarados is used by many notable trainers such as Blue, Clair, Lance, Wallace, Pike Queen Lucy, Crasher Wake, and Cyrus.', 'Gyarados is one of several Pokémon to gain a Mega Evolution in Pokémon X and Y.', 'When it Mega Evolves, it becomes a Water/Dark type and gains the ability Mold Breaker.', 'Gyarados makes many appearances outside of the main series, including appearances in Pokémon Snap, Pokémon Trading Card Game, Pokémon Mystery Dungeon: Blue Rescue Team and Red Rescue Team, Pokémon Ranger, and Pokémon Go.', 'In Pokémon Mystery Dungeon: Explorers of Time and Explorers of Darkness, a Gyarados appears in the Miracle Sea.', \"He attempts to take control of Phione, but is halted by the player's team.\", 'In PokéPark Wii: Pikachu\\'s Adventure, Gyarados tries to take over the Beach Zone in Empoleon\\'s absence, and is the host of a mini-game called \"Aqua Dash\".', 'In Pokémon Go, Gyarados is generally considered one of the most difficult Pokémon to obtain - it must be evolved from a Magikarp (much like other Pokémon games) and requires 400 Magikarp candies to evolve, more than any other Pokémon in the game.', 'In Pokkén Tournament and its deluxe Switch version, Gyarados has been shown in the Magikarp Festival as one of these arenas as only a background character, spectating a battle between the playable fighter Pokémon.', 'In anime\\nIn the anime, Gyarados first appeared in Pokémon - I Choose You!', 'swimming in a river.', 'It was then seen in Pokémon Shipwreck, where James kicked his Magikarp out of frustration, and it evolved into a Gyarados.', 'Misty owns a Gyarados.', 'At first, she fearfully dislikes Gyarados due to a traumatic experience, but manages to get over the fear, take over the Cerulean City Gym, and add one to her team.', \"Talkin' 'Bout an Evolution and Rage Of Innocence focused on a red Gyarados.\", 'It was on a destructive rampage until Lance captured it.', 'This Gyarados appeared again in Gaining Groudon and The Scuffle of Legends to stop the feuding of Groudon and Kyogre.', 'Gyarados has appeared many other times under the ownership of various trainers, such as Crasher Wake and Nurse Joy.', 'In Coming Apart at the Dreams!', 'a Shiny red Gyarados and its Mega Evolved form has been under ownership and usage by Team Flare Mastermind Lysandre until it, along with Lysandre and his male Pyroar, are killed in Forming a More Perfect Union!', 'In printed adaptations\\nIn Pokémon Adventures, Gyarados debuts in the Red, Green & Blue chapter in Gyarados Splashes In!.', 'Here, an enraged one attacks its own trainer, Misty, but is recaught by Red, who returns it to her.', \"Later on, Misty traded this Gyarados to Red in exchange for Red's Krabby.\", \"When Red borrows Blue's Charizard to travel to Mt.\", 'Silver, he temporarily trades his Gyarados to Blue.', \"It later appears as one of Blue's Pokémon in Volume 13, used against Entei, and later part of his revealed team during the Gym Leader faceoff.\", 'Prior to the FireRed and LeafGreen saga, Blue returns Gyarados to Red.', 'A red Gyarados was the leader of a group of Gyarados.', 'When Team Rocket used the Goldenrod City Radio Tower to disturb Pokémon, these Gyarados went crazy.', 'At the end, it was caught by Silver.', 'After a battle with the Masked Man, this Gyarados was frozen and remained at the bottom of Lake of Rage until Lt. Surge discovered it.', 'Gyarados was able to free himself and Lt. Surge returned it to Silver.', 'Misty owns a Gyarados in the Electric Tale of Pikachu manga.', 'It is used against Ash in their gym battle.', 'Reception\\nSince it appeared in the Pokémon series, Gyarados has received generally positive reception.', 'It has been featured in several forms of merchandise, including figurines, plush toys, and the Pokémon Trading Card Game.', 'Though GamesRadar described Magikarp as \"[t]he ultimate in useless Pokémon\", they described Gyarados as one of the \"most well-known\" characters in the series.', 'They also featured it as their \"Pokémon of the week\".', \"While discussing Shiny Pokémon, GamesRadar used Gyarados' shiny form as an example of a more dramatic change in appearance.\", 'They later called it \"weird for being a Water/Flying type, but not being able to learn any flying moves at all (except for Bounce)\".', 'Wired\\'s John Mix Meyer described it as a \"classic powerhouse\", and GameSpy editor Justin Leeper called Gyarados a choice for \"more macho gamers\".', 'IGN called it \"one of the most powerful Pokémon ever encountered\", comparing it to the image of Chinese mythological dragons.', 'They also listed it as one of the \"best flying type Pokémon\", describing it as a \"flying sea snake.\"', 'Author Ash Dekirk wrote that Gyarados and Magikarp were inspired by the Asiatic myth of the Dragon Gate.', 'He adds that it is \"scaled in sapphire\" with \"catfish barbels\" on its \"somewhat blunted snout\".', 'Author Loredane Lipperini similarly described Gyarados as resembling something from the Chinese New Year.', 'IGN\\'s \"Pokémon of the Day Chick\" expressed dismay at Gyarados in Pokémon Crystal, commenting that while in its predecessors Pokémon Red, Blue, and Yellow, it was one of the \"most valuable Pokémon\", they ruined it by giving it very low special attack in this game.', 'IGN described the growth from Pokémon Diamond and Pearl to Pokémon Black and White\\'\\' as possibly being the \"series\\' biggest evolution since Magikarp morphed into Gyarados\".', 'IGN commented that a Pokémon game better than Black and White was Pokémon Snap, citing one of their \"favorite experiences\" as where the player can throw Pester Balls at a Magikarp to make it evolve into Gyarados and attack the player.', 'Author Tracy West named Gyarados the \"fourth best Water-type Pokémon\".', 'IGN readers voted Gyarados as the 11th best Pokémon.', 'Editor Sam wrote, \"This iconic Flying and Water Type Pokémon from the first generation of games epitomizes the trials and tribulations of training even the lamest of Pokémon.\"', 'He says further, \"Sure, everyone made fun of you as you toted around a Magikarp, but who’s laughing now -- Now that it’s evolved into a badass sea dragon Gyarados!\"', 'In the newest iteration of the series, Pokémon Go, the Gyarados is evolved by obtaining 400 Magikarp Candies.', 'This continues the traditional difficulty but worthiness of obtaining a Gyarados.', 'References\\n\\n\\nExternal links\\n\\nGyarados on Bulbapedia']\n",
            "Fill Up 1 : once it has worked itself into a frenzy, it will not calm until everything around it is destroyed, and can even go on for a ______.  \n",
            "['week', 'year', 'entire', 'whole month']\n",
            "\n",
            "\n"
          ]
        }
      ]
    }
  ]
}